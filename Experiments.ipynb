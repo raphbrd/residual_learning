{
 "cells": [
  {
   "cell_type": "markdown",
   "source": [
    "# Experimenting with Residual Networks"
   ],
   "metadata": {
    "collapsed": false,
    "id": "93fa027d4a2e0294"
   },
   "id": "93fa027d4a2e0294"
  },
  {
   "cell_type": "code",
   "outputs": [],
   "source": [
    "import os\n",
    "user = \"raphbrd\"\n",
    "repo = \"residual_learning\"\n",
    "\n",
    "if os.path.isdir(repo):\n",
    "    !rm -rf {repo}\n",
    "\n",
    "!git clone https://github.com/{user}/{repo}.git\n",
    "\n",
    "# not pretty code\n",
    "from pathlib import Path\n",
    "import shutil\n",
    "p = Path(\".\")\n",
    "for file in p.glob(\"residual_learning/*.py\"):\n",
    "    shutil.move(file, file.name)"
   ],
   "metadata": {
    "collapsed": false
   },
   "id": "4bedd4cac8f3fc6"
  },
  {
   "cell_type": "code",
   "outputs": [],
   "source": [
    "import os\n",
    "import matplotlib.pyplot as plt\n",
    "import pandas as pd\n",
    "import numpy as np\n",
    "import torch\n",
    "from torch import nn, optim\n",
    "from torch.optim.lr_scheduler import StepLR\n",
    "\n",
    "from tqdm.notebook import tqdm\n",
    "\n",
    "from models import LeNet5, ResNet, xavier_weights, kaiming_weights\n",
    "from residuals import ConvResBlock, ConvPlainBlock, ConvResBlockPre\n",
    "from data import _load_torch_data\n",
    "from training import CallBacks, Trainer, Stream\n",
    "from viz import plot_training_results"
   ],
   "metadata": {
    "ExecuteTime": {
     "end_time": "2024-03-21T16:05:06.729478Z",
     "start_time": "2024-03-21T16:05:04.539140Z"
    },
    "id": "81a490405cdf46dc"
   },
   "id": "81a490405cdf46dc",
   "execution_count": null
  },
  {
   "cell_type": "markdown",
   "source": [
    "The following parameters are also used as default in the Streamlit app:"
   ],
   "metadata": {
    "collapsed": false,
    "id": "382c7212f8f30fb0"
   },
   "id": "382c7212f8f30fb0"
  },
  {
   "cell_type": "code",
   "outputs": [],
   "source": [
    "batch_size = 128\n",
    "val_size = 0.10\n",
    "n_epochs = 65\n",
    "initialization = \"xavier\"  # or \"kaiming\"\n",
    "path = \"./derivatives\"\n",
    "\n",
    "# multi-labels (K = 10) classification task\n",
    "criterion = nn.CrossEntropyLoss()\n",
    "\n",
    "if not os.path.exists(path):\n",
    "    os.mkdir(path)\n",
    "    os.mkdir(path + \"/models\")\n",
    "    os.mkdir(path + \"/figures\")"
   ],
   "metadata": {
    "id": "3ca1768260f4290b"
   },
   "id": "3ca1768260f4290b",
   "execution_count": null
  },
  {
   "cell_type": "markdown",
   "source": [
    "## Loading the CIFAR-10 dataset from torchvision"
   ],
   "metadata": {
    "id": "vg26MVoo-Pi8"
   },
   "id": "vg26MVoo-Pi8"
  },
  {
   "cell_type": "code",
   "outputs": [],
   "source": [
    "if not os.path.exists(\"sample_data\"):\n",
    "    os.mkdir(\"sample_data\")\n",
    "\n",
    "train_loader, validation_loader, test_loader, classes = _load_torch_data(\n",
    "    data_path=\"sample_data\",\n",
    "    dataset_name=\"CIFAR10\",\n",
    "    batch_size=batch_size,\n",
    "    val_size=val_size\n",
    ")\n",
    "input_size = next(iter(train_loader))[0].shape\n",
    "\n",
    "def run_model(model_, desc_):\n",
    "    \"\"\" helper function to train a model based on the globals variables of the environment \"\"\"\n",
    "    if initialization == \"xavier\":\n",
    "        xavier_weights(model_)\n",
    "    elif initialization == \"kaiming\":\n",
    "        kaiming_weights(model_)\n",
    "\n",
    "    optimizer = optim.SGD(model_.parameters(), lr=0.1, momentum=0.9, weight_decay=1e-4)\n",
    "    scheduler = StepLR(optimizer, step_size=40, gamma=0.1)\n",
    "\n",
    "    trainer = Trainer(model_, optimizer, scheduler, criterion, callbacks=CallBacks(Stream(print, tqdm)),\n",
    "                      device=torch.device(\"cuda\"), save_path=path + \"/models\")\n",
    "    training_out = trainer.fit(train_loader, validation_loader, n_epochs=n_epochs, save_epo_state=False, desc=desc_)\n",
    "\n",
    "    return training_out, trainer"
   ],
   "metadata": {
    "colab": {
     "base_uri": "https://localhost:8080/"
    },
    "id": "45c304a1dab5e737",
    "outputId": "223fbfa7-4803-4ec7-9ede-22fe7b33e057"
   },
   "id": "45c304a1dab5e737",
   "execution_count": null
  },
  {
   "cell_type": "markdown",
   "source": [
    "## Training ResNets and PlainNets"
   ],
   "metadata": {
    "id": "-BAtzsOA-XSx"
   },
   "id": "-BAtzsOA-XSx"
  },
  {
   "cell_type": "code",
   "outputs": [],
   "source": [
    "models = {\n",
    "    # 14 layers\n",
    "    # \"ResNet-14\": ResNet(input_size[1], len(classes), module_list=[2, 2, 2], features_shapes=[16, 32, 64], block_type=ConvResBlock),\n",
    "    # \"PlainNet-14\": PlainNet(input_size[1], len(classes), module_list=[2, 2, 2], features_shapes=[16, 32, 64]),\n",
    "    # 18 layers\n",
    "    # \"ResNet-18\": ResNet(input_size[1], len(classes), module_list=[3, 3, 3], features_shapes=[16, 32, 64], block_type=ConvResBlock),\n",
    "    # \"PlainNet-18\": PlainNet(input_size[1], len(classes), module_list=[3, 3, 3], features_shapes=[16, 32, 64]),\n",
    "    # 32 layers\n",
    "    # \"ResNet-32\": ResNet(input_size[1], len(classes), module_list=[5, 5, 5], features_shapes=[16, 32, 64], block_type=ConvResBlock),\n",
    "    # \"PlainNet-32\": PlainNet(input_size[1], len(classes), module_list=[5, 5, 5], features_shapes=[16, 32, 64]),\n",
    "    # 38 layers\n",
    "    # \"ResNet-38\": ResNet(input_size[1], len(classes), module_list=[6, 6, 6], features_shapes=[16, 32, 64], block_type=ConvResBlock),\n",
    "    # \"PlainNet-38\": PlainNet(input_size[1], len(classes), module_list=[6, 6, 6], features_shapes=[16, 32, 64]),\n",
    "    # 14 layers pre-activated\n",
    "    \"ResNet-14Pre\": ResNet(input_size[1], len(classes), module_list=[2, 2, 2], features_shapes=[16, 32, 64], block_type=ConvResBlockPre),\n",
    "    # 18 layers pre-activated\n",
    "    \"ResNet-18Pre\": ResNet(input_size[1], len(classes), module_list=[3, 3, 3], features_shapes=[16, 32, 64], block_type=ConvResBlockPre),\n",
    "    # 38 layers pre-activated\n",
    "    \"ResNet-38Pre\": ResNet(input_size[1], len(classes), module_list=[6, 6, 6], features_shapes=[16, 32, 64], block_type=ConvResBlockPre),\n",
    "}\n",
    "\n",
    "for key, model in models.items():\n",
    "    model, trainer = run_model(model, key)\n",
    "\n",
    "    test_loss, accuracy = trainer.run_test(test_loader)\n",
    "    out_per_class = trainer.run_test_per_class(test_loader)\n",
    "    last_row = pd.DataFrame({\n",
    "        \"classes\": \"all\",\n",
    "        \"accuracy\": accuracy,\n",
    "        \"loss\": test_loss,\n",
    "        \"n_instances\": len(test_loader.dataset)\n",
    "        }, index=[0])\n",
    "    out_per_class = pd.concat([out_per_class, last_row], ignore_index=True)\n",
    "    out_per_class.to_csv(path + f\"/{key}_results_test_per_class.csv\")"
   ],
   "metadata": {
    "colab": {
     "base_uri": "https://localhost:8080/"
    },
    "id": "e2d92f2f489807a0",
    "outputId": "79b36a34-a710-4bd1-f1cd-4af539be4821"
   },
   "id": "e2d92f2f489807a0",
   "execution_count": null
  }
 ],
 "metadata": {
  "kernelspec": {
   "display_name": "Python 3",
   "name": "python3"
  },
  "language_info": {
   "codemirror_mode": {
    "name": "ipython",
    "version": 2
   },
   "file_extension": ".py",
   "mimetype": "text/x-python",
   "name": "python",
   "nbconvert_exporter": "python",
   "pygments_lexer": "ipython2",
   "version": "2.7.6"
  },
  "colab": {
   "provenance": []
  }
 },
 "nbformat": 4,
 "nbformat_minor": 5
}
